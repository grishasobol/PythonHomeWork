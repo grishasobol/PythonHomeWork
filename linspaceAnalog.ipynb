{
 "cells": [
  {
   "cell_type": "code",
   "execution_count": 22,
   "metadata": {
    "collapsed": true
   },
   "outputs": [],
   "source": [
    "from numpy import *\n",
    "import time"
   ]
  },
  {
   "cell_type": "code",
   "execution_count": 23,
   "metadata": {
    "collapsed": true
   },
   "outputs": [],
   "source": [
    "def linspace_for(a, b, c):\n",
    "    result = []\n",
    "    for i in range(c):\n",
    "        result.append(float(a) + (b - a) / (c - 1) * i)\n",
    "    return array(result)"
   ]
  },
  {
   "cell_type": "code",
   "execution_count": 24,
   "metadata": {
    "collapsed": true
   },
   "outputs": [],
   "source": [
    "def linspace_comperhension(a, b, c):\n",
    "    return array([float(a) + (b - a) / (c - 1) * i for i in range(c)])"
   ]
  },
  {
   "cell_type": "code",
   "execution_count": 26,
   "metadata": {
    "collapsed": false
   },
   "outputs": [
    {
     "name": "stdout",
     "output_type": "stream",
     "text": [
      "0.00944995880127\n",
      "0.00792288780212\n",
      "0.0002281665802\n"
     ]
    }
   ],
   "source": [
    "a, b, c = 1, 1000000, 9999\n",
    "t = time.time()\n",
    "linspace_for(a, b, c)\n",
    "print time.time() - t\n",
    "t = time.time()\n",
    "linspace_comperhension(a, b, c)\n",
    "print time.time() - t\n",
    "t = time.time()\n",
    "numpy.linspace(a, b, c)\n",
    "print time.time() - t"
   ]
  },
  {
   "cell_type": "code",
   "execution_count": null,
   "metadata": {
    "collapsed": true
   },
   "outputs": [],
   "source": []
  }
 ],
 "metadata": {
  "anaconda-cloud": {},
  "kernelspec": {
   "display_name": "Python 2",
   "language": "python",
   "name": "python2"
  },
  "language_info": {
   "codemirror_mode": {
    "name": "ipython",
    "version": 2
   },
   "file_extension": ".py",
   "mimetype": "text/x-python",
   "name": "python",
   "nbconvert_exporter": "python",
   "pygments_lexer": "ipython2",
   "version": "2.7.12"
  }
 },
 "nbformat": 4,
 "nbformat_minor": 1
}
